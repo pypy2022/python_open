{
  "nbformat": 4,
  "nbformat_minor": 0,
  "metadata": {
    "colab": {
      "name": "Untitled0.ipynb",
      "provenance": [],
      "collapsed_sections": [],
      "authorship_tag": "ABX9TyPEslVItMB9rQhd13SCd61n",
      "include_colab_link": true
    },
    "kernelspec": {
      "name": "python3",
      "display_name": "Python 3"
    },
    "language_info": {
      "name": "python"
    }
  },
  "cells": [
    {
      "cell_type": "markdown",
      "metadata": {
        "id": "view-in-github",
        "colab_type": "text"
      },
      "source": [
        "<a href=\"https://colab.research.google.com/github/pypy2022/python_open/blob/main/Untitled0.ipynb\" target=\"_parent\"><img src=\"https://colab.research.google.com/assets/colab-badge.svg\" alt=\"Open In Colab\"/></a>"
      ]
    },
    {
      "cell_type": "code",
      "execution_count": 4,
      "metadata": {
        "colab": {
          "base_uri": "https://localhost:8080/"
        },
        "id": "-XjtTB5FGOhs",
        "outputId": "daec2483-4a3a-4183-e1d3-688006b470de"
      },
      "outputs": [
        {
          "output_type": "stream",
          "name": "stdout",
          "text": [
            "# 하나만 출력합니다.\n",
            "Hello Python Programming...!\n",
            "\n",
            "# 여러 개를 출력합니다.\n",
            "10 20 30 40 50\n",
            "안녕하세요 저의 이름은 윤인성입니다.\n",
            "\n",
            "# 아무 것도 출력하지 않습니다.\n",
            "--- 확인 전용선 ---\n"
          ]
        }
      ],
      "source": [
        "#하나만 출력합니다.\n",
        "print(\"# 하나만 출력합니다.\")\n",
        "print(\"Hello Python Programming...!\")\n",
        "print()\n",
        "\n",
        "#여러 개를 출력합니다.\n",
        "print(\"# 여러 개를 출력합니다.\")\n",
        "print(10, 20, 30, 40, 50)\n",
        "print(\"안녕하세요\", \"저의\", \"이름은\", \"윤인성입니다.\")\n",
        "print()\n",
        "\n",
        "#아무 것도 입력하지 않으면 단순하게 줄바꿈합니다.\n",
        "print(\"# 아무 것도 출력하지 않습니다.\")\n",
        "print(\"--- 확인 전용선 ---\")"
      ]
    }
  ]
}