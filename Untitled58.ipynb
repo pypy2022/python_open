{
  "nbformat": 4,
  "nbformat_minor": 0,
  "metadata": {
    "colab": {
      "name": "Untitled58.ipynb",
      "provenance": [],
      "authorship_tag": "ABX9TyOPePt3yUbrI7KbaNFMqlTL",
      "include_colab_link": true
    },
    "kernelspec": {
      "name": "python3",
      "display_name": "Python 3"
    },
    "language_info": {
      "name": "python"
    }
  },
  "cells": [
    {
      "cell_type": "markdown",
      "metadata": {
        "id": "view-in-github",
        "colab_type": "text"
      },
      "source": [
        "<a href=\"https://colab.research.google.com/github/pypy2022/python_open/blob/main/Untitled58.ipynb\" target=\"_parent\"><img src=\"https://colab.research.google.com/assets/colab-badge.svg\" alt=\"Open In Colab\"/></a>"
      ]
    },
    {
      "cell_type": "code",
      "execution_count": 2,
      "metadata": {
        "id": "YEBwbUDwH26q",
        "colab": {
          "base_uri": "https://localhost:8080/"
        },
        "outputId": "f46b5ada-97a9-4162-afef-873c5da8061d"
      },
      "outputs": [
        {
          "output_type": "stream",
          "name": "stdout",
          "text": [
            "이름 입력철수\n",
            "포함됨\n"
          ]
        }
      ],
      "source": [
        "# 37~\n",
        "list1 = [\"철수\", \"영희\", \"만수\", \"희수\", \"영수\"]\n",
        "name = input(\"이름 입력\")\n",
        "\n",
        "if name in list1:\n",
        "  print(\"포함됨\")\n",
        "else:\n",
        "  print(\"안포함됨\")"
      ]
    },
    {
      "cell_type": "code",
      "source": [
        "a, b = map(int, input(\"정수 2개 입력\").split())\n",
        "print(a)\n"
      ],
      "metadata": {
        "colab": {
          "base_uri": "https://localhost:8080/"
        },
        "id": "tuzt1P0ekY5d",
        "outputId": "8577f9e7-2447-47a6-d14d-3dd7eb2d9393"
      },
      "execution_count": 3,
      "outputs": [
        {
          "output_type": "stream",
          "name": "stdout",
          "text": [
            "정수 2개 입력3 5\n",
            "3\n"
          ]
        }
      ]
    }
  ]
}